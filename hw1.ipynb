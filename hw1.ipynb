{
 "cells": [
  {
   "cell_type": "markdown",
   "metadata": {},
   "source": [
    "## Data read use the data on pdf"
   ]
  },
  {
   "cell_type": "code",
   "execution_count": 162,
   "metadata": {},
   "outputs": [],
   "source": [
    "t_x=[]\n",
    "t_y=[]\n",
    "with open('dt.txt','r') as f:\n",
    "    line=f.readlines()\n",
    "    for lines in line:\n",
    "        tp=lines.split(',')\n",
    "        t_x.append(float(tp[0]))\n",
    "        t_y.append(float(tp[1].split('\\n')[0]))\n",
    "#print(t_y)"
   ]
  },
  {
   "cell_type": "markdown",
   "metadata": {},
   "source": [
    "## Library used"
   ]
  },
  {
   "cell_type": "code",
   "execution_count": 159,
   "metadata": {},
   "outputs": [],
   "source": [
    "import math\n",
    "import numpy as np\n",
    "from numpy.linalg import inv # use after LU to check do right or not \n",
    "degree=1\n",
    "penality_rate=0.3"
   ]
  },
  {
   "cell_type": "markdown",
   "metadata": {},
   "source": [
    "## LSE method with loss and parameters"
   ]
  },
  {
   "cell_type": "code",
   "execution_count": 239,
   "metadata": {},
   "outputs": [
    {
     "name": "stdout",
     "output_type": "stream",
     "text": [
      "3.0819181673210925\n",
      "3.9622839277168707\n",
      "-0.04293404701190262\n",
      "255.40303284585016\n"
     ]
    }
   ],
   "source": [
    "class LSE():\n",
    "    def __init__(self,n_degree=1,lambd=0):\n",
    "        self.degree=n_degree\n",
    "        self.lambd=lambd\n",
    "        self.iden=np.identity(self.degree+1)\n",
    "    def A_matrix(self,x):\n",
    "        A=np.array([[x[j]**i for i in range(self.degree,-1,-1)]for j in range(len(x))])\n",
    "        #print(np.shape(A))\n",
    "        return A\n",
    "    def LUdecompostion(self,A):\n",
    "        rows,columns=np.shape(A)\n",
    "        L_matrix=np.zeros((rows,columns))\n",
    "        U_matrix=np.zeros((rows,columns))\n",
    "        #rows=self.degree\n",
    "        for i in range(rows):\n",
    "            for j in range(i-1):\n",
    "                total=0\n",
    "                for k in range(j-1):\n",
    "                    total+=L_matrix[i][k]*U_matrix[k][j] #矩陣乘法\n",
    "                L_matrix[i][j]=(A[i][j]-total)/U_matrix[j][j]\n",
    "            L_matrix[i][i]=1\n",
    "            for j in range(i-1,rows):\n",
    "                total_1=0\n",
    "                for k in range(i-1):\n",
    "                    total_1+=L_matrix[i][k]*U_matrix[k][j]\n",
    "                U_matrix[i][j]=(A[i][j]-total_1)\n",
    "        return self.inverse_lowwer_matrix(L_matrix),self.inverse_upper_matrix(U_matrix)\n",
    "    def inverse_lowwer_matrix(self,A):\n",
    "        n,m=np.shape(A)\n",
    "        if n!=m:\n",
    "            print(\"行列數目不相同要使用pseudo inverse\")\n",
    "            return\n",
    "        B=A\n",
    "        I_A=np.identity(n)\n",
    "        for i in range(n):\n",
    "            Divisor=B[i][i]\n",
    "            for j in range(i+1):\n",
    "                B[i][j]=B[i][j]/Divisor\n",
    "                I_A[i][j]=I_A[i][j]/Divisor\n",
    "                #print(A)\n",
    "        for i in range(n):\n",
    "            for j in range(i+1,n):\n",
    "                Multi=B[j][i]\n",
    "                for k in range(m):\n",
    "                    B[j][k]=B[j][k]-Multi*B[i][k]\n",
    "                    I_A[j][k]=I_A[j][k]-Multi*I_A[i][k]\n",
    "        return I_A\n",
    "    def inverse_upper_matrix(self,A):\n",
    "        n,m=np.shape(A)\n",
    "        B=A\n",
    "        if n!=m:\n",
    "            print(\"行列數目不相同要使用pseudo inverse\")\n",
    "            return\n",
    "        I_A=np.identity(n)\n",
    "        for i in range(n):\n",
    "            Divisor=B[i][i]\n",
    "            for j in range(i,m):\n",
    "                B[i][j]=B[i][j]/Divisor\n",
    "                I_A[i][j]=I_A[i][j]/Divisor\n",
    "                #print(A)\n",
    "        for i in range(n-1,-1,-1):\n",
    "            for j in range(i-1,-1,-1):\n",
    "                Multi=B[j][i]\n",
    "                for k in range(m):\n",
    "                    B[j][k]=B[j][k]-Multi*B[i][k]\n",
    "                    I_A[j][k]=I_A[j][k]-Multi*I_A[i][k]\n",
    "        return I_A\n",
    "    def forward(self,x,b):\n",
    "        A=self.A_matrix(x)\n",
    "        L,U=self.LUdecompostion(np.dot(A.T,A)+self.lambd*self.iden)\n",
    "        #print(L,U)\n",
    "        para=np.dot(np.dot(np.dot(U,L),A.T),(b))\n",
    "        #para=np.dot(np.dot(A.T,inv(np.dot(A,A.T)+self.lambd*self.iden)),(b))\n",
    "        return para \n",
    "    def calculus_error(self,paras,x,y):\n",
    "        A=self.A_matrix(x)\n",
    "        err=np.sum(np.square(np.dot(A,paras)-y))\n",
    "        #error=0\n",
    "        #for i in range(len(x)):\n",
    "        #    error+=(y[i]-np.dot(A[i],paras))**2\n",
    "        return err\n",
    "LSE1=LSE(n_degree=degree,lambd=penality_rate)\n",
    "para_rlse=LSE1.forward(t_x,t_y)\n",
    "errs_rlse=LSE1.calculus_error(para_rlse,t_x,t_y)\n",
    "for i in range(len(para_rlse)):\n",
    "    print(para_rlse[i])\n",
    "print(errs_rlse)"
   ]
  },
  {
   "cell_type": "markdown",
   "metadata": {},
   "source": [
    "## Newton method with loss and parameter"
   ]
  },
  {
   "cell_type": "code",
   "execution_count": 240,
   "metadata": {},
   "outputs": [
    {
     "name": "stdout",
     "output_type": "stream",
     "text": [
      "[[ 3.02400064]\n",
      " [ 4.90567088]\n",
      " [-0.23105921]]\n",
      "953910.5869749377\n"
     ]
    }
   ],
   "source": [
    "class Newton():\n",
    "    def __init__(self,n_degree=1):\n",
    "        self.degree=n_degree\n",
    "    def A_matrix(self,x):\n",
    "        A=np.array([[x[j]**i for i in range(self.degree,-1,-1)]for j in range(len(x))])\n",
    "        #print(np.shape(A))\n",
    "        return A\n",
    "    def inverse_lowwer_matrix(self,A):\n",
    "        n,m=np.shape(A)\n",
    "        if n!=m:\n",
    "            print(\"行列數目不相同要使用pseudo inverse\")\n",
    "            return\n",
    "        B=A\n",
    "        I_A=np.identity(n)\n",
    "        for i in range(n):\n",
    "            Divisor=B[i][i]\n",
    "            for j in range(i+1):\n",
    "                B[i][j]=B[i][j]/Divisor\n",
    "                I_A[i][j]=I_A[i][j]/Divisor\n",
    "                #print(A)\n",
    "        for i in range(n):\n",
    "            for j in range(i+1,n):\n",
    "                Multi=B[j][i]\n",
    "                for k in range(m):\n",
    "                    B[j][k]=B[j][k]-Multi*B[i][k]\n",
    "                    I_A[j][k]=I_A[j][k]-Multi*I_A[i][k]\n",
    "        return I_A\n",
    "    def inverse_upper_matrix(self,A):\n",
    "        n,m=np.shape(A)\n",
    "        B=A\n",
    "        if n!=m:\n",
    "            print(\"行列數目不相同要使用pseudo inverse\")\n",
    "            return\n",
    "        I_A=np.identity(n)\n",
    "        for i in range(n):\n",
    "            Divisor=B[i][i]\n",
    "            for j in range(i,m):\n",
    "                B[i][j]=B[i][j]/Divisor\n",
    "                I_A[i][j]=I_A[i][j]/Divisor\n",
    "                #print(A)\n",
    "        for i in range(n-1,-1,-1):\n",
    "            for j in range(i-1,-1,-1):\n",
    "                Multi=B[j][i]\n",
    "                for k in range(m):\n",
    "                    B[j][k]=B[j][k]-Multi*B[i][k]\n",
    "                    I_A[j][k]=I_A[j][k]-Multi*I_A[i][k]\n",
    "        return I_A\n",
    "    def LUdecompostion(self,A):\n",
    "        rows,columns=np.shape(A)\n",
    "        L_matrix=np.zeros((rows,columns))\n",
    "        U_matrix=np.zeros((rows,columns))\n",
    "        #print(rows,columns)\n",
    "        for i in range(rows):\n",
    "            for j in range(i-1):\n",
    "                total=0\n",
    "                for k in range(j-1):\n",
    "                    total+=L_matrix[i][k]*U_matrix[k][j] #矩陣乘法\n",
    "                L_matrix[i][j]=(A[i][j]-total)/U_matrix[j][j]\n",
    "            L_matrix[i][i]=1\n",
    "            for j in range(i-1,rows):\n",
    "                total_1=0\n",
    "                for k in range(i-1):\n",
    "                    total_1+=L_matrix[i][k]*U_matrix[k][j]\n",
    "                U_matrix[i][j]=(A[i][j]-total_1)\n",
    "        return self.inverse_lowwer_matrix(L_matrix),self.inverse_upper_matrix(U_matrix)\n",
    "    def forward(self,x,b):\n",
    "        A=self.A_matrix(x)\n",
    "        x_0=np.random.rand(self.degree+1,1)\n",
    "        x_1=np.zeros(self.degree+1)\n",
    "        A_square=np.dot(A.T,A)\n",
    "        #print(np.shape(A))\n",
    "        L,U=self.LUdecompostion(A_square*2)\n",
    "        #hession_inverse=inv(2*A_square)#np.dot(U,L)\n",
    "        hession_inverse=np.dot(U,L)\n",
    "        eps=100\n",
    "        while eps>1e-6:\n",
    "            gradi=np.dot(2*A_square,x_0)-(np.dot(2*A.T,b)).reshape(-1,1)\n",
    "            #print(np.shape(np.dot(2*A_square,x_0)))\n",
    "            #print(np.shape(np.dot(2*A.T,b).reshape(-1,1)))\n",
    "            #print('---------')\n",
    "            x_1=x_0-1.5*(np.dot(hession_inverse,gradi))\n",
    "            eps=abs(np.sum(np.square(x_1-x_0))/(self.degree+1))\n",
    "            x_0=x_1\n",
    "            #print(x_0)\n",
    "        return x_0\n",
    "    def calculus_error(self,parasm,x,y):\n",
    "        A=self.A_matrix(x)\n",
    "        err=np.sum(np.square(np.dot(A,parasm)-y))\n",
    "        return err\n",
    "Newton1=Newton(n_degree=degree)\n",
    "para_newton=Newton1.forward(t_x,t_y)\n",
    "errs_newton=Newton1.calculus_error(para_newton,t_x,t_y)\n",
    "\n",
    "print(para_newton)\n",
    "print(errs_newton)"
   ]
  },
  {
   "cell_type": "markdown",
   "metadata": {},
   "source": [
    "## Plot both and save as hw_1.jpg"
   ]
  },
  {
   "cell_type": "code",
   "execution_count": 241,
   "metadata": {},
   "outputs": [
    {
     "name": "stderr",
     "output_type": "stream",
     "text": [
      "/usr/lib/python3/dist-packages/ipykernel_launcher.py:1: UserWarning: \n",
      "This call to matplotlib.use() has no effect because the backend has already\n",
      "been chosen; matplotlib.use() must be called *before* pylab, matplotlib.pyplot,\n",
      "or matplotlib.backends is imported for the first time.\n",
      "\n",
      "The backend was *originally* set to 'module://ipykernel.pylab.backend_inline' by the following code:\n",
      "  File \"/usr/lib/python3.6/runpy.py\", line 193, in _run_module_as_main\n",
      "    \"__main__\", mod_spec)\n",
      "  File \"/usr/lib/python3.6/runpy.py\", line 85, in _run_code\n",
      "    exec(code, run_globals)\n",
      "  File \"/usr/lib/python3/dist-packages/ipykernel_launcher.py\", line 16, in <module>\n",
      "    app.launch_new_instance()\n",
      "  File \"/usr/lib/python3/dist-packages/traitlets/config/application.py\", line 658, in launch_instance\n",
      "    app.start()\n",
      "  File \"/usr/lib/python3/dist-packages/ipykernel/kernelapp.py\", line 486, in start\n",
      "    self.io_loop.start()\n",
      "  File \"/usr/lib/python3/dist-packages/zmq/eventloop/ioloop.py\", line 177, in start\n",
      "    super(ZMQIOLoop, self).start()\n",
      "  File \"/usr/lib/python3/dist-packages/tornado/ioloop.py\", line 888, in start\n",
      "    handler_func(fd_obj, events)\n",
      "  File \"/usr/lib/python3/dist-packages/tornado/stack_context.py\", line 277, in null_wrapper\n",
      "    return fn(*args, **kwargs)\n",
      "  File \"/usr/lib/python3/dist-packages/zmq/eventloop/zmqstream.py\", line 440, in _handle_events\n",
      "    self._handle_recv()\n",
      "  File \"/usr/lib/python3/dist-packages/zmq/eventloop/zmqstream.py\", line 472, in _handle_recv\n",
      "    self._run_callback(callback, msg)\n",
      "  File \"/usr/lib/python3/dist-packages/zmq/eventloop/zmqstream.py\", line 414, in _run_callback\n",
      "    callback(*args, **kwargs)\n",
      "  File \"/usr/lib/python3/dist-packages/tornado/stack_context.py\", line 277, in null_wrapper\n",
      "    return fn(*args, **kwargs)\n",
      "  File \"/usr/lib/python3/dist-packages/ipykernel/kernelbase.py\", line 283, in dispatcher\n",
      "    return self.dispatch_shell(stream, msg)\n",
      "  File \"/usr/lib/python3/dist-packages/ipykernel/kernelbase.py\", line 233, in dispatch_shell\n",
      "    handler(stream, idents, msg)\n",
      "  File \"/usr/lib/python3/dist-packages/ipykernel/kernelbase.py\", line 399, in execute_request\n",
      "    user_expressions, allow_stdin)\n",
      "  File \"/usr/lib/python3/dist-packages/ipykernel/ipkernel.py\", line 208, in do_execute\n",
      "    res = shell.run_cell(code, store_history=store_history, silent=silent)\n",
      "  File \"/usr/lib/python3/dist-packages/ipykernel/zmqshell.py\", line 537, in run_cell\n",
      "    return super(ZMQInteractiveShell, self).run_cell(*args, **kwargs)\n",
      "  File \"/usr/lib/python3/dist-packages/IPython/core/interactiveshell.py\", line 2728, in run_cell\n",
      "    self.events.trigger('post_run_cell')\n",
      "  File \"/usr/lib/python3/dist-packages/IPython/core/events.py\", line 74, in trigger\n",
      "    func(*args, **kwargs)\n",
      "  File \"/usr/lib/python3/dist-packages/ipykernel/pylab/backend_inline.py\", line 160, in configure_once\n",
      "    activate_matplotlib(backend)\n",
      "  File \"/usr/lib/python3/dist-packages/IPython/core/pylabtools.py\", line 309, in activate_matplotlib\n",
      "    matplotlib.pyplot.switch_backend(backend)\n",
      "  File \"/usr/lib/python3/dist-packages/matplotlib/pyplot.py\", line 232, in switch_backend\n",
      "    matplotlib.use(newbackend, warn=False, force=True)\n",
      "  File \"/usr/lib/python3/dist-packages/matplotlib/__init__.py\", line 1306, in use\n",
      "    reload(sys.modules['matplotlib.backends'])\n",
      "  File \"/usr/lib/python3.6/importlib/__init__.py\", line 166, in reload\n",
      "    _bootstrap._exec(spec, module)\n",
      "  File \"/usr/lib/python3/dist-packages/matplotlib/backends/__init__.py\", line 14, in <module>\n",
      "    line for line in traceback.format_stack()\n",
      "\n",
      "\n",
      "  \"\"\"Entry point for launching an IPython kernel.\n"
     ]
    },
    {
     "data": {
      "image/png": "[encoded data removed]",
      "text/plain": [
       "<matplotlib.figure.Figure at 0x7fc25d8b5080>"
      ]
     },
     "metadata": {},
     "output_type": "display_data"
    },
    {
     "data": {
      "text/plain": [
       "<matplotlib.figure.Figure at 0x7fc254961668>"
      ]
     },
     "metadata": {},
     "output_type": "display_data"
    }
   ],
   "source": [
    "matplotlib.use('Agg')\n",
    "import matplotlib\n",
    "#degree=\n",
    "from matplotlib.pyplot import plot,savefig\n",
    "def plot(x1,b,parameters_rlse,parameters_newton):\n",
    "    #rlse\n",
    "    plt.subplot(2,1,1)\n",
    "    plt.title('rlse')\n",
    "    plt.plot(x1,b,'ro')\n",
    "    x1_min=min(x1)\n",
    "    x1_max=max(x1)\n",
    "    x=np.linspace(x1_min-1,x1_max+1,500)\n",
    "    y=np.zeros(x.shape)\n",
    "    for i in range(len(parameters_rlse)):\n",
    "        y+=parameters_rlse[degree-i]*np.power(x,i)\n",
    "    plt.plot(x,y,'-k')\n",
    "    #newton\n",
    "    plt.subplot(2,1,2)\n",
    "    plt.title('newton\\'s method')\n",
    "    plt.plot(x1, b, 'ro')\n",
    "    y = np.zeros(x.shape)\n",
    "    for i in range(len(parameters_newton)):\n",
    "        y += parameters_newton[degree-i] * np.power(x, i)\n",
    "    plt.plot(x, y, '-k')\n",
    "    \n",
    "    plt.show()\n",
    "    plt.savefig('hw_1.jpg')\n",
    "plot(t_x,t_y,para_rlse,para_newton)"
   ]
  },
  {
   "cell_type": "code",
   "execution_count": 147,
   "metadata": {},
   "outputs": [
    {
     "name": "stdout",
     "output_type": "stream",
     "text": [
      "[[27  9  3  1]\n",
      " [27  9  3  1]\n",
      " [27  9  3  1]]\n"
     ]
    }
   ],
   "source": [
    "A=np.array([[3**i for i in range(3,-1,-1)] for j in range(3)])\n",
    "B=np.array([[3**i for i in range(3,-1,-1)] for j in range(3)])\n",
    "print(A)"
   ]
  },
  {
   "cell_type": "code",
   "execution_count": 223,
   "metadata": {},
   "outputs": [
    {
     "name": "stdout",
     "output_type": "stream",
     "text": [
      "[[ 1.  0.  0.]\n",
      " [ 2.  1.  0.]\n",
      " [ 3. -1.  1.]] [[ 1.  2.  3.]\n",
      " [ 0.  1.  1.]\n",
      " [ 0.  0. -5.]]\n"
     ]
    }
   ],
   "source": [
    "def A_matrix(x,col):\n",
    "    A=np.array([[x[j]**i for i in range(3-1,-1,-1)]for j in range(col)])\n",
    "    #print(np.shape(A))\n",
    "    return A\n",
    "def LUdecompostion(A):\n",
    "    rows,columns=np.shape(A)\n",
    "    L_matrix=np.zeros((rows,columns))\n",
    "    U_matrix=np.zeros((rows,columns))\n",
    "    #rows=self.degree\n",
    "    for i in range(rows):\n",
    "        for j in range(i,rows):\n",
    "            total=0\n",
    "            for k in range(i):\n",
    "                total+=L_matrix[i][k]*U_matrix[k][j] #矩陣乘法\n",
    "            U_matrix[i][j]=(A[i][j]-total)\n",
    "        #L_matrix[i][i]=1\n",
    "        for j in range(i,rows) :\n",
    "            total_1=0\n",
    "            if (i == j):\n",
    "                L_matrix[i][i]=1\n",
    "            else:\n",
    "                for k in range(i):\n",
    "                    total_1+=L_matrix[j][k]*U_matrix[k][i]\n",
    "                L_matrix[j][i]=(A[j][i]-total_1)/U_matrix[i][i]\n",
    "    return (L_matrix),(U_matrix)\n",
    "#A=A_matrix(t_x,len(t_x))\n",
    "#L=np.dot(A,np.transpose(A))\n",
    "L=[[1,2,3],[2,5,7],[3,5,3]]\n",
    "L_1,U_1=LUdecompostion(L)\n",
    "print(L_1,U_1)\n",
    "#print((L==R).all())"
   ]
  },
  {
   "cell_type": "code",
   "execution_count": 224,
   "metadata": {
    "scrolled": true
   },
   "outputs": [
    {
     "name": "stdout",
     "output_type": "stream",
     "text": [
      "[[ 1.  2.  3.]\n",
      " [ 0.  1.  1.]\n",
      " [ 0.  0. -5.]]\n",
      "[[ 1.  -2.   0.2]\n",
      " [ 0.   1.   0.2]\n",
      " [-0.  -0.  -0.2]]\n",
      "[[ 1.  -2.   0.2]\n",
      " [ 0.   1.   0.2]\n",
      " [ 0.   0.  -0.2]]\n"
     ]
    }
   ],
   "source": [
    "def inverse_upper_matrix(A):\n",
    "    n,m=np.shape(A)\n",
    "    B=A\n",
    "    if n!=m:\n",
    "        print(\"行列數目不相同要使用pseudo inverse\")\n",
    "        return\n",
    "    I_A=np.identity(n)\n",
    "    for i in range(n):\n",
    "        Divisor=B[i][i]\n",
    "        for j in range(i,m):\n",
    "            B[i][j]=B[i][j]/Divisor\n",
    "            I_A[i][j]=I_A[i][j]/Divisor\n",
    "            #print(A)\n",
    "    for i in range(n-1,-1,-1):\n",
    "        for j in range(i-1,-1,-1):\n",
    "            Multi=B[j][i]\n",
    "            for k in range(m):\n",
    "                B[j][k]=B[j][k]-Multi*B[i][k]\n",
    "                I_A[j][k]=I_A[j][k]-Multi*I_A[i][k]\n",
    "    return I_A\n",
    "U_2=U_1\n",
    "print(U_1)\n",
    "print(inv(U_2))\n",
    "I_U=inverse_upper_matrix(U_1)\n",
    "print(I_U)"
   ]
  },
  {
   "cell_type": "code",
   "execution_count": 225,
   "metadata": {},
   "outputs": [
    {
     "name": "stdout",
     "output_type": "stream",
     "text": [
      "[[ 1.  0.  0.]\n",
      " [ 2.  1.  0.]\n",
      " [ 3. -1.  1.]]\n",
      "[[ 1.00000000e+00  0.00000000e+00  1.48029737e-17]\n",
      " [-2.00000000e+00  1.00000000e+00 -6.66133815e-17]\n",
      " [-5.00000000e+00  1.00000000e+00  1.00000000e+00]]\n",
      "[[ 1.  0.  0.]\n",
      " [-2.  1.  0.]\n",
      " [-5.  1.  1.]]\n"
     ]
    }
   ],
   "source": [
    "def inverse_lowwer_matrix(A):\n",
    "    n,m=np.shape(A)\n",
    "    if n!=m:\n",
    "        print(\"行列數目不相同要使用pseudo inverse\")\n",
    "        return\n",
    "    B=A\n",
    "    I_A=np.identity(n)\n",
    "    for i in range(n):\n",
    "        Divisor=B[i][i]\n",
    "        for j in range(i+1):\n",
    "            B[i][j]=B[i][j]/Divisor\n",
    "            I_A[i][j]=I_A[i][j]/Divisor\n",
    "            #print(A)\n",
    "    for i in range(n):\n",
    "        for j in range(i+1,n):\n",
    "            Multi=B[j][i]\n",
    "            for k in range(m):\n",
    "                B[j][k]=B[j][k]-Multi*B[i][k]\n",
    "                I_A[j][k]=I_A[j][k]-Multi*I_A[i][k]\n",
    "    return I_A\n",
    "L_2=L_1\n",
    "print(L_1)\n",
    "print(inv(L_2))\n",
    "I_L=inverse_lowwer_matrix(L_1)\n",
    "print(I_L)"
   ]
  },
  {
   "cell_type": "code",
   "execution_count": 202,
   "metadata": {},
   "outputs": [
    {
     "name": "stdout",
     "output_type": "stream",
     "text": [
      "[[1, 0, 0], [-2.0, 1, 0], [0.6000000000000001, 0.2, -0.2]]\n"
     ]
    }
   ],
   "source": [
    "L=[[1,2,3],[0,1,1],[0,0,1]]\n",
    "A=[[1,0,0],[0,1,0],[0,0,-0.2]]\n",
    "for i in range(3-1,-1,-1):\n",
    "    for j in range(i-1,-1,-1):\n",
    "        Multi=L[j][i]/L[i][i]\n",
    "        L[j][i]=L[j][i]-Multi\n",
    "        A[i][j]=(-Multi*A[i][i])\n",
    "print(A)"
   ]
  },
  {
   "cell_type": "code",
   "execution_count": null,
   "metadata": {},
   "outputs": [],
   "source": [
    "\n",
    "def LU_inverse(B):\n",
    "        #I_U=np.zeros((self.degree,self.degree))\n",
    "        #I_L=E1\n",
    "        #for i in range(self.degree):# U的inverse\n",
    "        #    I_U[i][i]=1/U_matrix[i][i]\n",
    "        #    for j in range(i-1)\n",
    "        n,m=np.shape(B)\n",
    "        for k in range(n):\n",
    "            Divisor = B[k][k]\n",
    "            for i in range(k, m):\n",
    "                B[k][i] = B[k][i]/Divisor\n",
    "            for i in range(k+1, n):\n",
    "                Multi = B[i][k]\n",
    "                for j in range(m):\n",
    "                    B[i][j] = B[i][j] - B[k][j] * Multi"
   ]
  }
 ],
 "metadata": {
  "kernelspec": {
   "display_name": "Python 3",
   "language": "python",
   "name": "python3"
  },
  "language_info": {
   "codemirror_mode": {
    "name": "ipython",
    "version": 3
   },
   "file_extension": ".py",
   "mimetype": "text/x-python",
   "name": "python",
   "nbconvert_exporter": "python",
   "pygments_lexer": "ipython3",
   "version": "3.6.7"
  }
 },
 "nbformat": 4,
 "nbformat_minor": 2
}
